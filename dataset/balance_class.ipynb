{
 "cells": [
  {
   "cell_type": "code",
   "execution_count": 17,
   "id": "7c0cfd7b",
   "metadata": {},
   "outputs": [],
   "source": [
    "import numpy as np\n",
    "import os  \n",
    "from PIL import Image\n",
    "import shutil\n",
    "import sys\n",
    "\n",
    "try:\n",
    "    import cv2\n",
    "    from cv2 import imread,imwrite,imshow\n",
    "except ImportError:\n",
    "    # If no OpenCV，then skimage\n",
    "    import skimage.io as io\n",
    "    from skimage.io import imread, imsave,imshow\n",
    "    imwrite = imsave\n"
   ]
  },
  {
   "cell_type": "code",
   "execution_count": 21,
   "id": "19c52800",
   "metadata": {},
   "outputs": [],
   "source": [
    "#global path\n",
    "#sys.path.append(\"..\")\n",
    "abs_path = os.path.abspath(\"__file__\"+\"/../../data_set/\")\n",
    "original_veg_path=os.path.join(abs_path,\"arcgis_datasets/labels/\")\n",
    "original_image_path=os.path.join(abs_path,\"arcgis_datasets/images/\")\n",
    "\n",
    "target_veg_path=os.path.join(abs_path,\"arcgis_datasets/labels_balance/\")\n",
    "target_image_path=os.path.join(abs_path,\"arcgis_datasets/images_balance/\")\n",
    "\n",
    "#train:test:validatio=6:2:2\n",
    "# target_label_path=os.path.join(abs_path,\"train/labels/train/\")\n",
    "# target_image_path=os.path.join(abs_path,\"train/images/train/\")\n",
    "# target_label_path=os.path.join(abs_path,\"test/labels/test/\")\n",
    "# target_image_path=os.path.join(abs_path,\"test/images/test/\")\n",
    "# target_label_path=os.path.join(abs_path,\"validation/labels/validation/\")\n",
    "# target_image_path=os.path.join(abs_path,\"validation/images/validation/\")"
   ]
  },
  {
   "cell_type": "code",
   "execution_count": 19,
   "id": "0b995962",
   "metadata": {},
   "outputs": [],
   "source": [
    "id2code={1:(220,245,255),2:(180,245,255),3:(130,245,255),4:(56,245,255),5:(163,255,115),\n",
    "            6:(85,255,0),7:(215,243,172),8:(85,127,0),9:(144,173,49),10:(161,255,167),\n",
    "            11:(151,230,1),12:(56,168,2),13:(85,212,89),14:(26,197,30),15:(93,255,133),\n",
    "            16:(1,230,169),17:(93,255,207),18:(109,190,174),19:(85,190,174),20:(107,191,199),\n",
    "            21:(178,178,178),22:(255,0,0),23:(254,234,190),24:(214,133,137),25:(255,127,127),\n",
    "            26:(3,197,255),27:(3,181,245),28:(3,167,255),29:(3,137,255),30:(3,107,255),\n",
    "            31:(3,77,255),32:(3,47,255),33:(3,17,255),34:(0,77,138),35:(0,77,168),\n",
    "            36:(0,77,198),37:(0,77,238),38:(255,0,197),39:(236,96,167),40:(255,125,197),\n",
    "            41:(185,142,0),42:(180,171,93),43:(0,0,0)}"
   ]
  },
  {
   "cell_type": "code",
   "execution_count": 22,
   "id": "ddfb91d1",
   "metadata": {},
   "outputs": [],
   "source": [
    "def rgb_to_onehot(rgb_image, colormap=id2code):\n",
    "    \"\"\"\n",
    "    Function to one hot encode RGB mask labels.\n",
    "    Args:\n",
    "        rgb_image: image matrix (eg. 256 x 256 x 3 dimension numpy ndarray).\n",
    "        colormap: dictionary of color to original_label id.\n",
    "    Return:\n",
    "        encoded_image: One hot encoded image of dimensions (height x width x num_classes) where num_classes = len(colormap).\n",
    "    Raises:\n",
    "        None.\n",
    "    \"\"\"\n",
    "    shape=43\n",
    "    encoded_image = np.zeros(shape, dtype=np.int8)\n",
    "    for i, cls in enumerate(colormap):\n",
    "        encoded_image[:, :, i] = np.all(rgb_image.reshape((-1, 3)) == colormap[cls], axis=1).reshape(shape[:2])\n",
    "    return encoded_image"
   ]
  },
  {
   "cell_type": "code",
   "execution_count": 23,
   "id": "c1c6af92",
   "metadata": {
    "scrolled": false
   },
   "outputs": [
    {
     "name": "stdout",
     "output_type": "stream",
     "text": [
      "[0 0 0 0 1 1 1 1 0 1 0 1 0 1 0 1 0 0 1 0 1 0 1 0 0 0 0 0 0 0 0 0 0 0 0 0 0\n",
      " 0 0 0 0 1 1]\n",
      "[  600468.  4026120.        0.        0. 19694448. 19699908. 19695220.\n",
      " 19676788.   935464. 19699640.  3308064. 19706624.  4475256. 19670476.\n",
      "  1892008. 19661556.        0.        0. 19699116.        0. 19680008.\n",
      "  2396564. 19665796.        0.  6394140. 15012512.  1667196.        0.\n",
      "        0.  4992540.        0.  1925676.        0.  1556924.        0.\n",
      "    49932.  2011492.  6797928.        0.        0.        0. 19683244.\n",
      " 19695832.]\n"
     ]
    }
   ],
   "source": [
    "#initial indicators\n",
    "flag=np.zeros(43,dtype=np.uint)\n",
    "pixel_total=np.zeros(43,dtype=np.uint)\n",
    "\n",
    "# how many titles(purity) for each 43 classifiction.\n",
    "pic_max=np.full(43,fill_value=300, dtype=np.uint) \n",
    "#pic_max=[0,0,0,0,0,0,0,0,0,0,0,0,0,0,0,0,0,0,0,0,0,0,0,0,0,0,0,0,0,0,0,0,0,0,0,0,0,0,0,0,0,0,0]\n",
    "pixel_max=pic_max * 256 *256\n",
    "\n",
    "#labels\n",
    "for file in os.listdir(original_veg_path):\n",
    "    filename = os.fsdecode(file)\n",
    "    # read pic and get shape size\n",
    "    original_veg_path1=os.path.join(original_veg_path, filename)   \n",
    "    img = imread(original_veg_path1)\n",
    "    img = cv2.cvtColor(img,cv2.COLOR_BGR2RGB)\n",
    "    #imshow('',img)\n",
    "    \n",
    "    shape = img.shape[:2] + (43,)\n",
    "    encoded_image = np.zeros(shape, dtype=np.int8)\n",
    "\n",
    "    for i, cls in enumerate(id2code):\n",
    "        encoded_image[:, :, i] = np.all(img.reshape((-1, 3)) == id2code[cls], axis=1).reshape(shape[:2])\n",
    "\n",
    "    if (encoded_image[:,:]*flag).sum()==0:\n",
    "\n",
    "        #move this picture\n",
    "        shutil.copyfile(os.path.join(original_veg_path,filename), os.path.join(target_veg_path,filename))\n",
    "        shutil.copyfile(os.path.join(original_image_path,str.replace(filename,\"veg1\",\"image\"))\n",
    "                        ,os.path.join(target_image_path,str.replace(filename,\"veg1\",\"image\")))\n",
    "        \n",
    "        one_pixel_total=np.sum(np.sum(encoded_image[:,:],axis=1),axis=0)# each classifiction total pixels of each picture\n",
    "        pixel_total=np.sum([pixel_total,one_pixel_total],axis=0)\n",
    "        #update flag\n",
    "        flag=np.multiply((pixel_total>=pixel_max),1)\n",
    "\n",
    "    if  flag.sum()==43:\n",
    "        break\n",
    "        \n",
    "print(flag)\n",
    "print(pixel_total)\n",
    "    \n",
    "    \n",
    "        \n"
   ]
  },
  {
   "cell_type": "code",
   "execution_count": 24,
   "id": "cbe03bef",
   "metadata": {},
   "outputs": [
    {
     "data": {
      "text/plain": [
       "array([  9.16241455,  61.43371582,   0.        ,   0.        ,\n",
       "       300.51342773, 300.59674072, 300.52520752, 300.24395752,\n",
       "        14.27404785, 300.59265137,  50.47705078, 300.69921875,\n",
       "        68.2869873 , 300.14764404,  28.86975098, 300.01153564,\n",
       "         0.        ,   0.        , 300.58465576,   0.        ,\n",
       "       300.29309082,  36.56866455, 300.07623291,   0.        ,\n",
       "        97.5668335 , 229.07275391,  25.43939209,   0.        ,\n",
       "         0.        ,  76.18011475,   0.        ,  29.38348389,\n",
       "         0.        ,  23.7567749 ,   0.        ,   0.76190186,\n",
       "        30.69293213, 103.72814941,   0.        ,   0.        ,\n",
       "         0.        , 300.34246826, 300.5345459 ])"
      ]
     },
     "execution_count": 24,
     "metadata": {},
     "output_type": "execute_result"
    }
   ],
   "source": [
    "pixel_total/(256*256)"
   ]
  }
 ],
 "metadata": {
  "kernelspec": {
   "display_name": "Python 3 (ipykernel)",
   "language": "python",
   "name": "python3"
  },
  "language_info": {
   "codemirror_mode": {
    "name": "ipython",
    "version": 3
   },
   "file_extension": ".py",
   "mimetype": "text/x-python",
   "name": "python",
   "nbconvert_exporter": "python",
   "pygments_lexer": "ipython3",
   "version": "3.8.13"
  }
 },
 "nbformat": 4,
 "nbformat_minor": 5
}
