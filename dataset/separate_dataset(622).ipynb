{
 "cells": [
  {
   "cell_type": "code",
   "execution_count": 31,
   "id": "11f16fb0",
   "metadata": {},
   "outputs": [],
   "source": [
    "import os, random, shutil\n",
    "\n",
    "#global PATH variables\n",
    "abs_path = os.path.abspath(\"__file__\"+\"/../../data_set/\")\n",
    "IMAGE_PATH =  os.path.join(abs_path, \"arcgis_datasets/images_balance/\")\n",
    "LABEL_PATH = os.path.join(abs_path, \"arcgis_datasets/labels_balance/\")\n",
    "\n",
    "TRAIN_PATH_IMAGES =os.path.join(abs_path, \"train/images/train/\")\n",
    "VALIDATION_PATH_IMAGES=os.path.join(abs_path, \"validation/images/validation/\")\n",
    "TEST_PATH_IMAGES=os.path.join(abs_path, \"test/images/test/\")\n",
    "\n",
    "TRAIN_PATH_LABELS =os.path.join(abs_path, \"train/labels/train/\")\n",
    "VALIDATION_PATH_LABELS=os.path.join(abs_path, \"validation/labels/validation/\")\n",
    "TEST_PATH_LABELS=os.path.join(abs_path, \"test/labels/test/\")"
   ]
  },
  {
   "cell_type": "code",
   "execution_count": 32,
   "id": "9d5897e0",
   "metadata": {},
   "outputs": [],
   "source": [
    "def moveFile(tarImages,tarLabels, rate):\n",
    "        pathDir = os.listdir(LABEL_PATH)    #orignal images path\n",
    "        filenumber=len(pathDir)\n",
    "       # rate=0.6    #Customize the ratio of the extracted pictures, for example, 10 out of 100 pictures, that is 0.1\n",
    "        picknumber=int(filenumber*rate) #Take a certain number of pictures from the folder according to the rate ratio\n",
    "        sample = random.sample(pathDir, picknumber)  #Randomly select sample images of the number of picknumbers\n",
    "        for name in sample:\n",
    "                shutil.move(IMAGE_PATH + str.replace(name,\"veg1\",\"image\"), tarImages + str.replace(name,\"veg1\",\"image\"))\n",
    "                shutil.move(LABEL_PATH + name, tarLabels + name)          \n",
    "                "
   ]
  },
  {
   "cell_type": "code",
   "execution_count": 33,
   "id": "0f9ebf58",
   "metadata": {},
   "outputs": [],
   "source": [
    "moveFile(TRAIN_PATH_IMAGES,TRAIN_PATH_LABELS,0.6) #get train data"
   ]
  },
  {
   "cell_type": "code",
   "execution_count": 34,
   "id": "b7a3ecfa",
   "metadata": {},
   "outputs": [],
   "source": [
    "moveFile(VALIDATION_PATH_IMAGES,VALIDATION_PATH_LABELS,0.5) # get validation data"
   ]
  },
  {
   "cell_type": "code",
   "execution_count": 35,
   "id": "d7d5e430",
   "metadata": {},
   "outputs": [],
   "source": [
    "moveFile(TEST_PATH_IMAGES,TEST_PATH_LABELS,1) # get test data"
   ]
  }
 ],
 "metadata": {
  "kernelspec": {
   "display_name": "Python 3 (ipykernel)",
   "language": "python",
   "name": "python3"
  },
  "language_info": {
   "codemirror_mode": {
    "name": "ipython",
    "version": 3
   },
   "file_extension": ".py",
   "mimetype": "text/x-python",
   "name": "python",
   "nbconvert_exporter": "python",
   "pygments_lexer": "ipython3",
   "version": "3.8.13"
  }
 },
 "nbformat": 4,
 "nbformat_minor": 5
}
