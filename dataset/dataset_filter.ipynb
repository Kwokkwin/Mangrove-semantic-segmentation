{
 "cells": [
  {
   "cell_type": "code",
   "execution_count": 1,
   "id": "a1c26768",
   "metadata": {},
   "outputs": [],
   "source": [
    "import numpy as np\n",
    "import os  \n",
    "from PIL import Image\n",
    "import shutil\n",
    "\n",
    "try:\n",
    "    import cv2\n",
    "    from cv2 import imread,imwrite,imshow\n",
    "except ImportError:\n",
    "    # If no OpenCV，then skimage\n",
    "    import skimage.io as io\n",
    "    from skimage.io import imread, imsave,imshow\n",
    "    imwrite = imsave"
   ]
  },
  {
   "cell_type": "code",
   "execution_count": 3,
   "id": "a6931b2d",
   "metadata": {},
   "outputs": [],
   "source": [
    "# #get origianl images\n",
    "# original_path=\"/home/deep/Qin/Mangrove-semantic-segmentation/data_set/arcgis_datasets/2/\"\n",
    "# target_path=\"/home/deep/Qin/Mangrove-semantic-segmentation/data_set/arcgis_datasets/labels/\"\n",
    "\n",
    "# for file in os.listdir(original_path):\n",
    "#     filename = os.fsdecode(file)\n",
    "#     shutil.move(os.path.join(original_path,filename), os.path.join(target_path,filename))\n"
   ]
  },
  {
   "cell_type": "code",
   "execution_count": 7,
   "id": "633650e3",
   "metadata": {},
   "outputs": [
    {
     "name": "stdout",
     "output_type": "stream",
     "text": [
      "/home/deep/Qin/Redland/Sandwich_2021/\n"
     ]
    }
   ],
   "source": [
    "#global PATH variables\n",
    "abs_path = os.path.abspath(\"__file__\"+\"/../../Redland/\")\n",
    "original_path=os.path.join(abs_path, \"arcgis_dataset/\")\n",
    "target_image_path=os.path.join(abs_path, \"img_dataset/\")\n",
    "target_label_path=os.path.join(abs_path, \"veg_dataset/\")\n",
    "print(original_path)\n"
   ]
  },
  {
   "cell_type": "code",
   "execution_count": 8,
   "id": "6dfd9bf8",
   "metadata": {},
   "outputs": [],
   "source": [
    "#get origianl images\n",
    "for file in os.listdir(original_path):\n",
    "    filename = os.fsdecode(file)\n",
    "    if filename.endswith(\"image.tif\"):\n",
    "       # print(filename)\n",
    "        shutil.copyfile(os.path.join(original_path,filename), os.path.join(target_image_path,filename))"
   ]
  },
  {
   "cell_type": "code",
   "execution_count": 9,
   "id": "ec7820e8",
   "metadata": {},
   "outputs": [],
   "source": [
    "#get original labels\n",
    "for file in os.listdir(original_path):\n",
    "    filename = os.fsdecode(file)\n",
    "    if filename.endswith(\"veg1.tif\"):\n",
    "        shutil.copyfile(os.path.join(original_path,filename), os.path.join(target_label_path,filename))"
   ]
  },
  {
   "cell_type": "code",
   "execution_count": 30,
   "id": "780a8ffa",
   "metadata": {},
   "outputs": [],
   "source": [
    "import glob\n",
    "files = glob.glob(target_image_path + '*') + glob.glob(target_label_path + '*') \n",
    "for f in files:\n",
    "    os.remove(f)"
   ]
  }
 ],
 "metadata": {
  "kernelspec": {
   "display_name": "Python 3 (ipykernel)",
   "language": "python",
   "name": "python3"
  },
  "language_info": {
   "codemirror_mode": {
    "name": "ipython",
    "version": 3
   },
   "file_extension": ".py",
   "mimetype": "text/x-python",
   "name": "python",
   "nbconvert_exporter": "python",
   "pygments_lexer": "ipython3",
   "version": "3.8.13"
  }
 },
 "nbformat": 4,
 "nbformat_minor": 5
}
