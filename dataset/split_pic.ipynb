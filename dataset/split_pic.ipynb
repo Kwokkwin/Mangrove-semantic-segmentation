{
 "cells": [
  {
   "cell_type": "code",
   "execution_count": null,
   "id": "cd1a05e1",
   "metadata": {},
   "outputs": [],
   "source": [
    "#!pip install opencv-python"
   ]
  },
  {
   "cell_type": "code",
   "execution_count": 3,
   "id": "b273c69b",
   "metadata": {},
   "outputs": [],
   "source": [
    "import numpy as np\n",
    "import os  \n",
    "from PIL import Image\n",
    "\n",
    "try:\n",
    "    import cv2\n",
    "    from cv2 import imread, imwrite,imshow\n",
    "except ImportError:\n",
    "    # If no OpenCV，then skimage\n",
    "    import skimage.io as io\n",
    "    from skimage.io import imread, imsave,imshow\n",
    "    imwrite = imsave"
   ]
  },
  {
   "cell_type": "code",
   "execution_count": 4,
   "id": "04325585",
   "metadata": {},
   "outputs": [],
   "source": [
    "#global PATH variables\n",
    "abs_path = os.path.abspath(\"__file__\"+\"/../../data_set/arcgis_datasets\")\n",
    "\n",
    "original_path=os.path.join(abs_path, \"img_dataset/\")\n",
    "img_target_path=os.path.join(abs_path,\"images/\")\n",
    "\n",
    "org_veg_path=os.path.join(abs_path,\"veg_dataset_resize/\")\n",
    "veg_target_path=os.path.join(abs_path,\"labels/\")"
   ]
  },
  {
   "cell_type": "code",
   "execution_count": 5,
   "id": "ef072655",
   "metadata": {},
   "outputs": [],
   "source": [
    "#get 256*256 pics\n",
    "def split_pic(original_path,target_path,filename):\n",
    "    #shape size after split\n",
    "    cut_width = 256\n",
    "    cut_length = 256\n",
    "    # read pic and get shape size\n",
    "    Img_To_Clip=os.path.join(original_path, filename)\n",
    "    \n",
    "    picture = imread(Img_To_Clip)\n",
    "    (width, length, depth) = picture.shape\n",
    "    # initial matrics\n",
    "    pic = np.zeros((cut_width, cut_length, depth))\n",
    "    # count the number of the split pic \n",
    "    num_width = int(width / cut_width)\n",
    "    num_length = int(length / cut_length)\n",
    "    # for loop\n",
    "    filename1=filename.rsplit('.', 1)[0] # filename without extension\n",
    "    for i in range(0, num_width):\n",
    "        for j in range(0, num_length):\n",
    "            pic = picture[i*cut_width : (i+1)*cut_width, j*cut_length : (j+1)*cut_length, :]      \n",
    "            result_path = target_path + '{}_{}.tif'.format(filename1, i*num_length+j+1)\n",
    "            imwrite(result_path, pic)"
   ]
  },
  {
   "cell_type": "code",
   "execution_count": 6,
   "id": "78656706",
   "metadata": {},
   "outputs": [],
   "source": [
    "import glob\n",
    "\n",
    "files = glob.glob(img_target_path+'*') + glob.glob(veg_target_path +'*')\n",
    "for f in files:\n",
    "    os.remove(f)"
   ]
  },
  {
   "cell_type": "code",
   "execution_count": 7,
   "id": "d58a90ab",
   "metadata": {},
   "outputs": [],
   "source": [
    "# all original images\n",
    "for file in os.listdir(original_path):\n",
    "    filename = os.fsdecode(file)\n",
    "    split_pic(original_path,img_target_path,filename)"
   ]
  },
  {
   "cell_type": "code",
   "execution_count": 8,
   "id": "94a2fbb1",
   "metadata": {},
   "outputs": [],
   "source": [
    "# all original resized labels\n",
    "for file in os.listdir(org_veg_path):\n",
    "    filename = os.fsdecode(file)\n",
    "        #print(original_path,target_path,filename)\n",
    "    split_pic(org_veg_path,veg_target_path,filename)"
   ]
  },
  {
   "cell_type": "code",
   "execution_count": null,
   "id": "460c371f",
   "metadata": {},
   "outputs": [],
   "source": []
  }
 ],
 "metadata": {
  "kernelspec": {
   "display_name": "Python 3 (ipykernel)",
   "language": "python",
   "name": "python3"
  },
  "language_info": {
   "codemirror_mode": {
    "name": "ipython",
    "version": 3
   },
   "file_extension": ".py",
   "mimetype": "text/x-python",
   "name": "python",
   "nbconvert_exporter": "python",
   "pygments_lexer": "ipython3",
   "version": "3.8.13"
  }
 },
 "nbformat": 4,
 "nbformat_minor": 5
}
